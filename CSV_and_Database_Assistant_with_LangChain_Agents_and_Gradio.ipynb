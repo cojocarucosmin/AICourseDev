{
  "nbformat": 4,
  "nbformat_minor": 0,
  "metadata": {
    "colab": {
      "provenance": [],
      "include_colab_link": true
    },
    "kernelspec": {
      "name": "python3",
      "display_name": "Python 3"
    },
    "language_info": {
      "name": "python"
    }
  },
  "cells": [
    {
      "cell_type": "markdown",
      "metadata": {
        "id": "view-in-github",
        "colab_type": "text"
      },
      "source": [
        "<a href=\"https://colab.research.google.com/github/cojocarucosmin/AICourseDev/blob/main/CSV_and_Database_Assistant_with_LangChain_Agents_and_Gradio.ipynb\" target=\"_parent\"><img src=\"https://colab.research.google.com/assets/colab-badge.svg\" alt=\"Open In Colab\"/></a>"
      ]
    },
    {
      "cell_type": "markdown",
      "source": [
        "## Install required libraries"
      ],
      "metadata": {
        "id": "0zeJGD4yxdG1"
      }
    },
    {
      "cell_type": "code",
      "source": [
        "!pip install -q openai langchain-openai langchain-community langchain-core langchain_experimental gradio"
      ],
      "metadata": {
        "colab": {
          "base_uri": "https://localhost:8080/"
        },
        "id": "EA-xszIvETrh",
        "outputId": "186aa046-7a93-4dc1-d275-14695d31bb7e"
      },
      "execution_count": 1,
      "outputs": [
        {
          "output_type": "stream",
          "name": "stdout",
          "text": [
            "\u001b[2K     \u001b[90m━━━━━━━━━━━━━━━━━━━━━━━━━━━━━━━━━━━━━━━━\u001b[0m \u001b[32m50.4/50.4 kB\u001b[0m \u001b[31m2.2 MB/s\u001b[0m eta \u001b[36m0:00:00\u001b[0m\n",
            "\u001b[2K   \u001b[90m━━━━━━━━━━━━━━━━━━━━━━━━━━━━━━━━━━━━━━━━\u001b[0m \u001b[32m376.1/376.1 kB\u001b[0m \u001b[31m10.2 MB/s\u001b[0m eta \u001b[36m0:00:00\u001b[0m\n",
            "\u001b[2K   \u001b[90m━━━━━━━━━━━━━━━━━━━━━━━━━━━━━━━━━━━━━━━━\u001b[0m \u001b[32m49.6/49.6 kB\u001b[0m \u001b[31m3.1 MB/s\u001b[0m eta \u001b[36m0:00:00\u001b[0m\n",
            "\u001b[2K   \u001b[90m━━━━━━━━━━━━━━━━━━━━━━━━━━━━━━━━━━━━━━━━\u001b[0m \u001b[32m2.4/2.4 MB\u001b[0m \u001b[31m46.0 MB/s\u001b[0m eta \u001b[36m0:00:00\u001b[0m\n",
            "\u001b[2K   \u001b[90m━━━━━━━━━━━━━━━━━━━━━━━━━━━━━━━━━━━━━━━━\u001b[0m \u001b[32m399.9/399.9 kB\u001b[0m \u001b[31m23.8 MB/s\u001b[0m eta \u001b[36m0:00:00\u001b[0m\n",
            "\u001b[2K   \u001b[90m━━━━━━━━━━━━━━━━━━━━━━━━━━━━━━━━━━━━━━━━\u001b[0m \u001b[32m208.1/208.1 kB\u001b[0m \u001b[31m13.5 MB/s\u001b[0m eta \u001b[36m0:00:00\u001b[0m\n",
            "\u001b[2K   \u001b[90m━━━━━━━━━━━━━━━━━━━━━━━━━━━━━━━━━━━━━━━━\u001b[0m \u001b[32m18.1/18.1 MB\u001b[0m \u001b[31m79.1 MB/s\u001b[0m eta \u001b[36m0:00:00\u001b[0m\n",
            "\u001b[2K   \u001b[90m━━━━━━━━━━━━━━━━━━━━━━━━━━━━━━━━━━━━━━━━\u001b[0m \u001b[32m318.7/318.7 kB\u001b[0m \u001b[31m17.9 MB/s\u001b[0m eta \u001b[36m0:00:00\u001b[0m\n",
            "\u001b[2K   \u001b[90m━━━━━━━━━━━━━━━━━━━━━━━━━━━━━━━━━━━━━━━━\u001b[0m \u001b[32m94.6/94.6 kB\u001b[0m \u001b[31m6.9 MB/s\u001b[0m eta \u001b[36m0:00:00\u001b[0m\n",
            "\u001b[2K   \u001b[90m━━━━━━━━━━━━━━━━━━━━━━━━━━━━━━━━━━━━━━━━\u001b[0m \u001b[32m76.4/76.4 kB\u001b[0m \u001b[31m5.8 MB/s\u001b[0m eta \u001b[36m0:00:00\u001b[0m\n",
            "\u001b[2K   \u001b[90m━━━━━━━━━━━━━━━━━━━━━━━━━━━━━━━━━━━━━━━━\u001b[0m \u001b[32m77.9/77.9 kB\u001b[0m \u001b[31m5.6 MB/s\u001b[0m eta \u001b[36m0:00:00\u001b[0m\n",
            "\u001b[2K   \u001b[90m━━━━━━━━━━━━━━━━━━━━━━━━━━━━━━━━━━━━━━━━\u001b[0m \u001b[32m318.9/318.9 kB\u001b[0m \u001b[31m19.2 MB/s\u001b[0m eta \u001b[36m0:00:00\u001b[0m\n",
            "\u001b[2K   \u001b[90m━━━━━━━━━━━━━━━━━━━━━━━━━━━━━━━━━━━━━━━━\u001b[0m \u001b[32m1.0/1.0 MB\u001b[0m \u001b[31m40.9 MB/s\u001b[0m eta \u001b[36m0:00:00\u001b[0m\n",
            "\u001b[2K   \u001b[90m━━━━━━━━━━━━━━━━━━━━━━━━━━━━━━━━━━━━━━━━\u001b[0m \u001b[32m292.1/292.1 kB\u001b[0m \u001b[31m19.5 MB/s\u001b[0m eta \u001b[36m0:00:00\u001b[0m\n",
            "\u001b[2K   \u001b[90m━━━━━━━━━━━━━━━━━━━━━━━━━━━━━━━━━━━━━━━━\u001b[0m \u001b[32m141.9/141.9 kB\u001b[0m \u001b[31m9.9 MB/s\u001b[0m eta \u001b[36m0:00:00\u001b[0m\n",
            "\u001b[2K   \u001b[90m━━━━━━━━━━━━━━━━━━━━━━━━━━━━━━━━━━━━━━━━\u001b[0m \u001b[32m10.8/10.8 MB\u001b[0m \u001b[31m85.6 MB/s\u001b[0m eta \u001b[36m0:00:00\u001b[0m\n",
            "\u001b[2K   \u001b[90m━━━━━━━━━━━━━━━━━━━━━━━━━━━━━━━━━━━━━━━━\u001b[0m \u001b[32m1.1/1.1 MB\u001b[0m \u001b[31m43.9 MB/s\u001b[0m eta \u001b[36m0:00:00\u001b[0m\n",
            "\u001b[2K   \u001b[90m━━━━━━━━━━━━━━━━━━━━━━━━━━━━━━━━━━━━━━━━\u001b[0m \u001b[32m62.8/62.8 kB\u001b[0m \u001b[31m4.2 MB/s\u001b[0m eta \u001b[36m0:00:00\u001b[0m\n",
            "\u001b[2K   \u001b[90m━━━━━━━━━━━━━━━━━━━━━━━━━━━━━━━━━━━━━━━━\u001b[0m \u001b[32m58.3/58.3 kB\u001b[0m \u001b[31m4.2 MB/s\u001b[0m eta \u001b[36m0:00:00\u001b[0m\n",
            "\u001b[2K   \u001b[90m━━━━━━━━━━━━━━━━━━━━━━━━━━━━━━━━━━━━━━━━\u001b[0m \u001b[32m49.3/49.3 kB\u001b[0m \u001b[31m3.2 MB/s\u001b[0m eta \u001b[36m0:00:00\u001b[0m\n",
            "\u001b[2K   \u001b[90m━━━━━━━━━━━━━━━━━━━━━━━━━━━━━━━━━━━━━━━━\u001b[0m \u001b[32m71.5/71.5 kB\u001b[0m \u001b[31m5.0 MB/s\u001b[0m eta \u001b[36m0:00:00\u001b[0m\n",
            "\u001b[2K   \u001b[90m━━━━━━━━━━━━━━━━━━━━━━━━━━━━━━━━━━━━━━━━\u001b[0m \u001b[32m130.2/130.2 kB\u001b[0m \u001b[31m8.3 MB/s\u001b[0m eta \u001b[36m0:00:00\u001b[0m\n",
            "\u001b[?25h"
          ]
        }
      ]
    },
    {
      "cell_type": "markdown",
      "source": [
        "## Create setup"
      ],
      "metadata": {
        "id": "b-SJyiB6WXgT"
      }
    },
    {
      "cell_type": "code",
      "source": [
        "import os, openai\n",
        "import pandas as pd\n",
        "import gradio as gr\n",
        "\n",
        "from IPython.display import Markdown, HTML, display\n",
        "from langchain.schema import HumanMessage\n",
        "from langchain_openai import ChatOpenAI\n",
        "from langchain.schema import AIMessage, HumanMessage\n",
        "\n",
        "from langchain.agents.agent_types import AgentType\n",
        "from langchain_experimental.agents.agent_toolkits import create_pandas_dataframe_agent"
      ],
      "metadata": {
        "id": "GbWFF3iMFSli"
      },
      "execution_count": 2,
      "outputs": []
    },
    {
      "cell_type": "code",
      "source": [
        "# only for Google Colab; please comment Kaggle part in this case\n",
        "from google.colab import userdata\n",
        "os.environ[\"OPENAI_API_KEY\"] = userdata.get('OPENAI_API_KEY')\n",
        "\n",
        "# only for Kaggle; please comment Google Colab part in this case\n",
        "#from kaggle_secrets import UserSecretsClient\n",
        "#user_secrets = UserSecretsClient()\n",
        "#os.environ[\"OPENAI_API_KEY\"] = user_secrets.get_secret(\"OPENAI_API_KEY\")"
      ],
      "metadata": {
        "id": "T-qKrzI7FFpY"
      },
      "execution_count": 3,
      "outputs": []
    },
    {
      "cell_type": "markdown",
      "source": [
        "## Get data from internet and save it locally"
      ],
      "metadata": {
        "id": "z4kODSkDWuvi"
      }
    },
    {
      "cell_type": "code",
      "source": [
        "os.makedirs(\"data\",exist_ok=True)\n",
        "!wget https://covidtracking.com/data/download/all-states-history.csv -P ./data/\n",
        "file_url = \"./data/all-states-history.csv\"\n",
        "df = pd.read_csv(file_url).fillna(value = 0)"
      ],
      "metadata": {
        "colab": {
          "base_uri": "https://localhost:8080/"
        },
        "id": "5PB0xi3gD_k3",
        "outputId": "6bff7efe-3f40-4f54-db58-3e01276f2e78"
      },
      "execution_count": 4,
      "outputs": [
        {
          "output_type": "stream",
          "name": "stdout",
          "text": [
            "--2024-09-26 10:19:38--  https://covidtracking.com/data/download/all-states-history.csv\n",
            "Resolving covidtracking.com (covidtracking.com)... 172.67.183.132, 104.21.64.114, 2606:4700:3032::ac43:b784, ...\n",
            "Connecting to covidtracking.com (covidtracking.com)|172.67.183.132|:443... connected.\n",
            "HTTP request sent, awaiting response... 200 OK\n",
            "Length: unspecified [text/csv]\n",
            "Saving to: ‘./data/all-states-history.csv’\n",
            "\n",
            "all-states-history.     [ <=>                ]   2.61M  --.-KB/s    in 0.1s    \n",
            "\n",
            "2024-09-26 10:19:39 (22.3 MB/s) - ‘./data/all-states-history.csv’ saved [2738601]\n",
            "\n"
          ]
        }
      ]
    },
    {
      "cell_type": "markdown",
      "source": [
        "## Explore the data"
      ],
      "metadata": {
        "id": "PK3mr-aYkNnR"
      }
    },
    {
      "cell_type": "code",
      "source": [
        "df.info()"
      ],
      "metadata": {
        "colab": {
          "base_uri": "https://localhost:8080/"
        },
        "id": "kzAyjQPjkQ7Z",
        "outputId": "db0af790-65f2-46b8-badb-7e8b1f9ac7e7"
      },
      "execution_count": 5,
      "outputs": [
        {
          "output_type": "stream",
          "name": "stdout",
          "text": [
            "<class 'pandas.core.frame.DataFrame'>\n",
            "RangeIndex: 20780 entries, 0 to 20779\n",
            "Data columns (total 41 columns):\n",
            " #   Column                            Non-Null Count  Dtype  \n",
            "---  ------                            --------------  -----  \n",
            " 0   date                              20780 non-null  object \n",
            " 1   state                             20780 non-null  object \n",
            " 2   death                             20780 non-null  float64\n",
            " 3   deathConfirmed                    20780 non-null  float64\n",
            " 4   deathIncrease                     20780 non-null  int64  \n",
            " 5   deathProbable                     20780 non-null  float64\n",
            " 6   hospitalized                      20780 non-null  float64\n",
            " 7   hospitalizedCumulative            20780 non-null  float64\n",
            " 8   hospitalizedCurrently             20780 non-null  float64\n",
            " 9   hospitalizedIncrease              20780 non-null  int64  \n",
            " 10  inIcuCumulative                   20780 non-null  float64\n",
            " 11  inIcuCurrently                    20780 non-null  float64\n",
            " 12  negative                          20780 non-null  float64\n",
            " 13  negativeIncrease                  20780 non-null  int64  \n",
            " 14  negativeTestsAntibody             20780 non-null  float64\n",
            " 15  negativeTestsPeopleAntibody       20780 non-null  float64\n",
            " 16  negativeTestsViral                20780 non-null  float64\n",
            " 17  onVentilatorCumulative            20780 non-null  float64\n",
            " 18  onVentilatorCurrently             20780 non-null  float64\n",
            " 19  positive                          20780 non-null  float64\n",
            " 20  positiveCasesViral                20780 non-null  float64\n",
            " 21  positiveIncrease                  20780 non-null  int64  \n",
            " 22  positiveScore                     20780 non-null  int64  \n",
            " 23  positiveTestsAntibody             20780 non-null  float64\n",
            " 24  positiveTestsAntigen              20780 non-null  float64\n",
            " 25  positiveTestsPeopleAntibody       20780 non-null  float64\n",
            " 26  positiveTestsPeopleAntigen        20780 non-null  float64\n",
            " 27  positiveTestsViral                20780 non-null  float64\n",
            " 28  recovered                         20780 non-null  float64\n",
            " 29  totalTestEncountersViral          20780 non-null  float64\n",
            " 30  totalTestEncountersViralIncrease  20780 non-null  int64  \n",
            " 31  totalTestResults                  20780 non-null  float64\n",
            " 32  totalTestResultsIncrease          20780 non-null  int64  \n",
            " 33  totalTestsAntibody                20780 non-null  float64\n",
            " 34  totalTestsAntigen                 20780 non-null  float64\n",
            " 35  totalTestsPeopleAntibody          20780 non-null  float64\n",
            " 36  totalTestsPeopleAntigen           20780 non-null  float64\n",
            " 37  totalTestsPeopleViral             20780 non-null  float64\n",
            " 38  totalTestsPeopleViralIncrease     20780 non-null  int64  \n",
            " 39  totalTestsViral                   20780 non-null  float64\n",
            " 40  totalTestsViralIncrease           20780 non-null  int64  \n",
            "dtypes: float64(30), int64(9), object(2)\n",
            "memory usage: 6.5+ MB\n"
          ]
        }
      ]
    },
    {
      "cell_type": "code",
      "source": [
        "df"
      ],
      "metadata": {
        "colab": {
          "base_uri": "https://localhost:8080/",
          "height": 617
        },
        "id": "K_KJHsv_kTrh",
        "outputId": "71d78649-dc85-4c85-fae0-ea28c72ffd4a"
      },
      "execution_count": 6,
      "outputs": [
        {
          "output_type": "execute_result",
          "data": {
            "text/plain": [
              "             date state    death  deathConfirmed  deathIncrease  \\\n",
              "0      2021-03-07    AK    305.0             0.0              0   \n",
              "1      2021-03-07    AL  10148.0          7963.0             -1   \n",
              "2      2021-03-07    AR   5319.0          4308.0             22   \n",
              "3      2021-03-07    AS      0.0             0.0              0   \n",
              "4      2021-03-07    AZ  16328.0         14403.0              5   \n",
              "...           ...   ...      ...             ...            ...   \n",
              "20775  2020-01-17    WA      0.0             0.0              0   \n",
              "20776  2020-01-16    WA      0.0             0.0              0   \n",
              "20777  2020-01-15    WA      0.0             0.0              0   \n",
              "20778  2020-01-14    WA      0.0             0.0              0   \n",
              "20779  2020-01-13    WA      0.0             0.0              0   \n",
              "\n",
              "       deathProbable  hospitalized  hospitalizedCumulative  \\\n",
              "0                0.0        1293.0                  1293.0   \n",
              "1             2185.0       45976.0                 45976.0   \n",
              "2             1011.0       14926.0                 14926.0   \n",
              "3                0.0           0.0                     0.0   \n",
              "4             1925.0       57907.0                 57907.0   \n",
              "...              ...           ...                     ...   \n",
              "20775            0.0           0.0                     0.0   \n",
              "20776            0.0           0.0                     0.0   \n",
              "20777            0.0           0.0                     0.0   \n",
              "20778            0.0           0.0                     0.0   \n",
              "20779            0.0           0.0                     0.0   \n",
              "\n",
              "       hospitalizedCurrently  hospitalizedIncrease  ...  totalTestResults  \\\n",
              "0                       33.0                     0  ...         1731628.0   \n",
              "1                      494.0                     0  ...         2323788.0   \n",
              "2                      335.0                    11  ...         2736442.0   \n",
              "3                        0.0                     0  ...            2140.0   \n",
              "4                      963.0                    44  ...         7908105.0   \n",
              "...                      ...                   ...  ...               ...   \n",
              "20775                    0.0                     0  ...               0.0   \n",
              "20776                    0.0                     0  ...               0.0   \n",
              "20777                    0.0                     0  ...               0.0   \n",
              "20778                    0.0                     0  ...               0.0   \n",
              "20779                    0.0                     0  ...               0.0   \n",
              "\n",
              "       totalTestResultsIncrease  totalTestsAntibody  totalTestsAntigen  \\\n",
              "0                             0                 0.0                0.0   \n",
              "1                          2347                 0.0                0.0   \n",
              "2                          3380                 0.0                0.0   \n",
              "3                             0                 0.0                0.0   \n",
              "4                         45110            580569.0                0.0   \n",
              "...                         ...                 ...                ...   \n",
              "20775                         0                 0.0                0.0   \n",
              "20776                         0                 0.0                0.0   \n",
              "20777                         0                 0.0                0.0   \n",
              "20778                         0                 0.0                0.0   \n",
              "20779                         0                 0.0                0.0   \n",
              "\n",
              "       totalTestsPeopleAntibody  totalTestsPeopleAntigen  \\\n",
              "0                           0.0                      0.0   \n",
              "1                      119757.0                      0.0   \n",
              "2                           0.0                 481311.0   \n",
              "3                           0.0                      0.0   \n",
              "4                      444089.0                      0.0   \n",
              "...                         ...                      ...   \n",
              "20775                       0.0                      0.0   \n",
              "20776                       0.0                      0.0   \n",
              "20777                       0.0                      0.0   \n",
              "20778                       0.0                      0.0   \n",
              "20779                       0.0                      0.0   \n",
              "\n",
              "       totalTestsPeopleViral  totalTestsPeopleViralIncrease  totalTestsViral  \\\n",
              "0                        0.0                              0        1731628.0   \n",
              "1                  2323788.0                           2347              0.0   \n",
              "2                        0.0                              0        2736442.0   \n",
              "3                        0.0                              0           2140.0   \n",
              "4                  3842945.0                          14856        7908105.0   \n",
              "...                      ...                            ...              ...   \n",
              "20775                    0.0                              0              0.0   \n",
              "20776                    0.0                              0              0.0   \n",
              "20777                    0.0                              0              0.0   \n",
              "20778                    0.0                              0              0.0   \n",
              "20779                    0.0                              0              0.0   \n",
              "\n",
              "       totalTestsViralIncrease  \n",
              "0                            0  \n",
              "1                            0  \n",
              "2                         3380  \n",
              "3                            0  \n",
              "4                        45110  \n",
              "...                        ...  \n",
              "20775                        0  \n",
              "20776                        0  \n",
              "20777                        0  \n",
              "20778                        0  \n",
              "20779                        0  \n",
              "\n",
              "[20780 rows x 41 columns]"
            ],
            "text/html": [
              "\n",
              "  <div id=\"df-ecbc1335-dfae-48bc-89d5-e30bc2d16ef0\" class=\"colab-df-container\">\n",
              "    <div>\n",
              "<style scoped>\n",
              "    .dataframe tbody tr th:only-of-type {\n",
              "        vertical-align: middle;\n",
              "    }\n",
              "\n",
              "    .dataframe tbody tr th {\n",
              "        vertical-align: top;\n",
              "    }\n",
              "\n",
              "    .dataframe thead th {\n",
              "        text-align: right;\n",
              "    }\n",
              "</style>\n",
              "<table border=\"1\" class=\"dataframe\">\n",
              "  <thead>\n",
              "    <tr style=\"text-align: right;\">\n",
              "      <th></th>\n",
              "      <th>date</th>\n",
              "      <th>state</th>\n",
              "      <th>death</th>\n",
              "      <th>deathConfirmed</th>\n",
              "      <th>deathIncrease</th>\n",
              "      <th>deathProbable</th>\n",
              "      <th>hospitalized</th>\n",
              "      <th>hospitalizedCumulative</th>\n",
              "      <th>hospitalizedCurrently</th>\n",
              "      <th>hospitalizedIncrease</th>\n",
              "      <th>...</th>\n",
              "      <th>totalTestResults</th>\n",
              "      <th>totalTestResultsIncrease</th>\n",
              "      <th>totalTestsAntibody</th>\n",
              "      <th>totalTestsAntigen</th>\n",
              "      <th>totalTestsPeopleAntibody</th>\n",
              "      <th>totalTestsPeopleAntigen</th>\n",
              "      <th>totalTestsPeopleViral</th>\n",
              "      <th>totalTestsPeopleViralIncrease</th>\n",
              "      <th>totalTestsViral</th>\n",
              "      <th>totalTestsViralIncrease</th>\n",
              "    </tr>\n",
              "  </thead>\n",
              "  <tbody>\n",
              "    <tr>\n",
              "      <th>0</th>\n",
              "      <td>2021-03-07</td>\n",
              "      <td>AK</td>\n",
              "      <td>305.0</td>\n",
              "      <td>0.0</td>\n",
              "      <td>0</td>\n",
              "      <td>0.0</td>\n",
              "      <td>1293.0</td>\n",
              "      <td>1293.0</td>\n",
              "      <td>33.0</td>\n",
              "      <td>0</td>\n",
              "      <td>...</td>\n",
              "      <td>1731628.0</td>\n",
              "      <td>0</td>\n",
              "      <td>0.0</td>\n",
              "      <td>0.0</td>\n",
              "      <td>0.0</td>\n",
              "      <td>0.0</td>\n",
              "      <td>0.0</td>\n",
              "      <td>0</td>\n",
              "      <td>1731628.0</td>\n",
              "      <td>0</td>\n",
              "    </tr>\n",
              "    <tr>\n",
              "      <th>1</th>\n",
              "      <td>2021-03-07</td>\n",
              "      <td>AL</td>\n",
              "      <td>10148.0</td>\n",
              "      <td>7963.0</td>\n",
              "      <td>-1</td>\n",
              "      <td>2185.0</td>\n",
              "      <td>45976.0</td>\n",
              "      <td>45976.0</td>\n",
              "      <td>494.0</td>\n",
              "      <td>0</td>\n",
              "      <td>...</td>\n",
              "      <td>2323788.0</td>\n",
              "      <td>2347</td>\n",
              "      <td>0.0</td>\n",
              "      <td>0.0</td>\n",
              "      <td>119757.0</td>\n",
              "      <td>0.0</td>\n",
              "      <td>2323788.0</td>\n",
              "      <td>2347</td>\n",
              "      <td>0.0</td>\n",
              "      <td>0</td>\n",
              "    </tr>\n",
              "    <tr>\n",
              "      <th>2</th>\n",
              "      <td>2021-03-07</td>\n",
              "      <td>AR</td>\n",
              "      <td>5319.0</td>\n",
              "      <td>4308.0</td>\n",
              "      <td>22</td>\n",
              "      <td>1011.0</td>\n",
              "      <td>14926.0</td>\n",
              "      <td>14926.0</td>\n",
              "      <td>335.0</td>\n",
              "      <td>11</td>\n",
              "      <td>...</td>\n",
              "      <td>2736442.0</td>\n",
              "      <td>3380</td>\n",
              "      <td>0.0</td>\n",
              "      <td>0.0</td>\n",
              "      <td>0.0</td>\n",
              "      <td>481311.0</td>\n",
              "      <td>0.0</td>\n",
              "      <td>0</td>\n",
              "      <td>2736442.0</td>\n",
              "      <td>3380</td>\n",
              "    </tr>\n",
              "    <tr>\n",
              "      <th>3</th>\n",
              "      <td>2021-03-07</td>\n",
              "      <td>AS</td>\n",
              "      <td>0.0</td>\n",
              "      <td>0.0</td>\n",
              "      <td>0</td>\n",
              "      <td>0.0</td>\n",
              "      <td>0.0</td>\n",
              "      <td>0.0</td>\n",
              "      <td>0.0</td>\n",
              "      <td>0</td>\n",
              "      <td>...</td>\n",
              "      <td>2140.0</td>\n",
              "      <td>0</td>\n",
              "      <td>0.0</td>\n",
              "      <td>0.0</td>\n",
              "      <td>0.0</td>\n",
              "      <td>0.0</td>\n",
              "      <td>0.0</td>\n",
              "      <td>0</td>\n",
              "      <td>2140.0</td>\n",
              "      <td>0</td>\n",
              "    </tr>\n",
              "    <tr>\n",
              "      <th>4</th>\n",
              "      <td>2021-03-07</td>\n",
              "      <td>AZ</td>\n",
              "      <td>16328.0</td>\n",
              "      <td>14403.0</td>\n",
              "      <td>5</td>\n",
              "      <td>1925.0</td>\n",
              "      <td>57907.0</td>\n",
              "      <td>57907.0</td>\n",
              "      <td>963.0</td>\n",
              "      <td>44</td>\n",
              "      <td>...</td>\n",
              "      <td>7908105.0</td>\n",
              "      <td>45110</td>\n",
              "      <td>580569.0</td>\n",
              "      <td>0.0</td>\n",
              "      <td>444089.0</td>\n",
              "      <td>0.0</td>\n",
              "      <td>3842945.0</td>\n",
              "      <td>14856</td>\n",
              "      <td>7908105.0</td>\n",
              "      <td>45110</td>\n",
              "    </tr>\n",
              "    <tr>\n",
              "      <th>...</th>\n",
              "      <td>...</td>\n",
              "      <td>...</td>\n",
              "      <td>...</td>\n",
              "      <td>...</td>\n",
              "      <td>...</td>\n",
              "      <td>...</td>\n",
              "      <td>...</td>\n",
              "      <td>...</td>\n",
              "      <td>...</td>\n",
              "      <td>...</td>\n",
              "      <td>...</td>\n",
              "      <td>...</td>\n",
              "      <td>...</td>\n",
              "      <td>...</td>\n",
              "      <td>...</td>\n",
              "      <td>...</td>\n",
              "      <td>...</td>\n",
              "      <td>...</td>\n",
              "      <td>...</td>\n",
              "      <td>...</td>\n",
              "      <td>...</td>\n",
              "    </tr>\n",
              "    <tr>\n",
              "      <th>20775</th>\n",
              "      <td>2020-01-17</td>\n",
              "      <td>WA</td>\n",
              "      <td>0.0</td>\n",
              "      <td>0.0</td>\n",
              "      <td>0</td>\n",
              "      <td>0.0</td>\n",
              "      <td>0.0</td>\n",
              "      <td>0.0</td>\n",
              "      <td>0.0</td>\n",
              "      <td>0</td>\n",
              "      <td>...</td>\n",
              "      <td>0.0</td>\n",
              "      <td>0</td>\n",
              "      <td>0.0</td>\n",
              "      <td>0.0</td>\n",
              "      <td>0.0</td>\n",
              "      <td>0.0</td>\n",
              "      <td>0.0</td>\n",
              "      <td>0</td>\n",
              "      <td>0.0</td>\n",
              "      <td>0</td>\n",
              "    </tr>\n",
              "    <tr>\n",
              "      <th>20776</th>\n",
              "      <td>2020-01-16</td>\n",
              "      <td>WA</td>\n",
              "      <td>0.0</td>\n",
              "      <td>0.0</td>\n",
              "      <td>0</td>\n",
              "      <td>0.0</td>\n",
              "      <td>0.0</td>\n",
              "      <td>0.0</td>\n",
              "      <td>0.0</td>\n",
              "      <td>0</td>\n",
              "      <td>...</td>\n",
              "      <td>0.0</td>\n",
              "      <td>0</td>\n",
              "      <td>0.0</td>\n",
              "      <td>0.0</td>\n",
              "      <td>0.0</td>\n",
              "      <td>0.0</td>\n",
              "      <td>0.0</td>\n",
              "      <td>0</td>\n",
              "      <td>0.0</td>\n",
              "      <td>0</td>\n",
              "    </tr>\n",
              "    <tr>\n",
              "      <th>20777</th>\n",
              "      <td>2020-01-15</td>\n",
              "      <td>WA</td>\n",
              "      <td>0.0</td>\n",
              "      <td>0.0</td>\n",
              "      <td>0</td>\n",
              "      <td>0.0</td>\n",
              "      <td>0.0</td>\n",
              "      <td>0.0</td>\n",
              "      <td>0.0</td>\n",
              "      <td>0</td>\n",
              "      <td>...</td>\n",
              "      <td>0.0</td>\n",
              "      <td>0</td>\n",
              "      <td>0.0</td>\n",
              "      <td>0.0</td>\n",
              "      <td>0.0</td>\n",
              "      <td>0.0</td>\n",
              "      <td>0.0</td>\n",
              "      <td>0</td>\n",
              "      <td>0.0</td>\n",
              "      <td>0</td>\n",
              "    </tr>\n",
              "    <tr>\n",
              "      <th>20778</th>\n",
              "      <td>2020-01-14</td>\n",
              "      <td>WA</td>\n",
              "      <td>0.0</td>\n",
              "      <td>0.0</td>\n",
              "      <td>0</td>\n",
              "      <td>0.0</td>\n",
              "      <td>0.0</td>\n",
              "      <td>0.0</td>\n",
              "      <td>0.0</td>\n",
              "      <td>0</td>\n",
              "      <td>...</td>\n",
              "      <td>0.0</td>\n",
              "      <td>0</td>\n",
              "      <td>0.0</td>\n",
              "      <td>0.0</td>\n",
              "      <td>0.0</td>\n",
              "      <td>0.0</td>\n",
              "      <td>0.0</td>\n",
              "      <td>0</td>\n",
              "      <td>0.0</td>\n",
              "      <td>0</td>\n",
              "    </tr>\n",
              "    <tr>\n",
              "      <th>20779</th>\n",
              "      <td>2020-01-13</td>\n",
              "      <td>WA</td>\n",
              "      <td>0.0</td>\n",
              "      <td>0.0</td>\n",
              "      <td>0</td>\n",
              "      <td>0.0</td>\n",
              "      <td>0.0</td>\n",
              "      <td>0.0</td>\n",
              "      <td>0.0</td>\n",
              "      <td>0</td>\n",
              "      <td>...</td>\n",
              "      <td>0.0</td>\n",
              "      <td>0</td>\n",
              "      <td>0.0</td>\n",
              "      <td>0.0</td>\n",
              "      <td>0.0</td>\n",
              "      <td>0.0</td>\n",
              "      <td>0.0</td>\n",
              "      <td>0</td>\n",
              "      <td>0.0</td>\n",
              "      <td>0</td>\n",
              "    </tr>\n",
              "  </tbody>\n",
              "</table>\n",
              "<p>20780 rows × 41 columns</p>\n",
              "</div>\n",
              "    <div class=\"colab-df-buttons\">\n",
              "\n",
              "  <div class=\"colab-df-container\">\n",
              "    <button class=\"colab-df-convert\" onclick=\"convertToInteractive('df-ecbc1335-dfae-48bc-89d5-e30bc2d16ef0')\"\n",
              "            title=\"Convert this dataframe to an interactive table.\"\n",
              "            style=\"display:none;\">\n",
              "\n",
              "  <svg xmlns=\"http://www.w3.org/2000/svg\" height=\"24px\" viewBox=\"0 -960 960 960\">\n",
              "    <path d=\"M120-120v-720h720v720H120Zm60-500h600v-160H180v160Zm220 220h160v-160H400v160Zm0 220h160v-160H400v160ZM180-400h160v-160H180v160Zm440 0h160v-160H620v160ZM180-180h160v-160H180v160Zm440 0h160v-160H620v160Z\"/>\n",
              "  </svg>\n",
              "    </button>\n",
              "\n",
              "  <style>\n",
              "    .colab-df-container {\n",
              "      display:flex;\n",
              "      gap: 12px;\n",
              "    }\n",
              "\n",
              "    .colab-df-convert {\n",
              "      background-color: #E8F0FE;\n",
              "      border: none;\n",
              "      border-radius: 50%;\n",
              "      cursor: pointer;\n",
              "      display: none;\n",
              "      fill: #1967D2;\n",
              "      height: 32px;\n",
              "      padding: 0 0 0 0;\n",
              "      width: 32px;\n",
              "    }\n",
              "\n",
              "    .colab-df-convert:hover {\n",
              "      background-color: #E2EBFA;\n",
              "      box-shadow: 0px 1px 2px rgba(60, 64, 67, 0.3), 0px 1px 3px 1px rgba(60, 64, 67, 0.15);\n",
              "      fill: #174EA6;\n",
              "    }\n",
              "\n",
              "    .colab-df-buttons div {\n",
              "      margin-bottom: 4px;\n",
              "    }\n",
              "\n",
              "    [theme=dark] .colab-df-convert {\n",
              "      background-color: #3B4455;\n",
              "      fill: #D2E3FC;\n",
              "    }\n",
              "\n",
              "    [theme=dark] .colab-df-convert:hover {\n",
              "      background-color: #434B5C;\n",
              "      box-shadow: 0px 1px 3px 1px rgba(0, 0, 0, 0.15);\n",
              "      filter: drop-shadow(0px 1px 2px rgba(0, 0, 0, 0.3));\n",
              "      fill: #FFFFFF;\n",
              "    }\n",
              "  </style>\n",
              "\n",
              "    <script>\n",
              "      const buttonEl =\n",
              "        document.querySelector('#df-ecbc1335-dfae-48bc-89d5-e30bc2d16ef0 button.colab-df-convert');\n",
              "      buttonEl.style.display =\n",
              "        google.colab.kernel.accessAllowed ? 'block' : 'none';\n",
              "\n",
              "      async function convertToInteractive(key) {\n",
              "        const element = document.querySelector('#df-ecbc1335-dfae-48bc-89d5-e30bc2d16ef0');\n",
              "        const dataTable =\n",
              "          await google.colab.kernel.invokeFunction('convertToInteractive',\n",
              "                                                    [key], {});\n",
              "        if (!dataTable) return;\n",
              "\n",
              "        const docLinkHtml = 'Like what you see? Visit the ' +\n",
              "          '<a target=\"_blank\" href=https://colab.research.google.com/notebooks/data_table.ipynb>data table notebook</a>'\n",
              "          + ' to learn more about interactive tables.';\n",
              "        element.innerHTML = '';\n",
              "        dataTable['output_type'] = 'display_data';\n",
              "        await google.colab.output.renderOutput(dataTable, element);\n",
              "        const docLink = document.createElement('div');\n",
              "        docLink.innerHTML = docLinkHtml;\n",
              "        element.appendChild(docLink);\n",
              "      }\n",
              "    </script>\n",
              "  </div>\n",
              "\n",
              "\n",
              "<div id=\"df-798f92cb-612f-42fe-a0b8-59a630456ea0\">\n",
              "  <button class=\"colab-df-quickchart\" onclick=\"quickchart('df-798f92cb-612f-42fe-a0b8-59a630456ea0')\"\n",
              "            title=\"Suggest charts\"\n",
              "            style=\"display:none;\">\n",
              "\n",
              "<svg xmlns=\"http://www.w3.org/2000/svg\" height=\"24px\"viewBox=\"0 0 24 24\"\n",
              "     width=\"24px\">\n",
              "    <g>\n",
              "        <path d=\"M19 3H5c-1.1 0-2 .9-2 2v14c0 1.1.9 2 2 2h14c1.1 0 2-.9 2-2V5c0-1.1-.9-2-2-2zM9 17H7v-7h2v7zm4 0h-2V7h2v10zm4 0h-2v-4h2v4z\"/>\n",
              "    </g>\n",
              "</svg>\n",
              "  </button>\n",
              "\n",
              "<style>\n",
              "  .colab-df-quickchart {\n",
              "      --bg-color: #E8F0FE;\n",
              "      --fill-color: #1967D2;\n",
              "      --hover-bg-color: #E2EBFA;\n",
              "      --hover-fill-color: #174EA6;\n",
              "      --disabled-fill-color: #AAA;\n",
              "      --disabled-bg-color: #DDD;\n",
              "  }\n",
              "\n",
              "  [theme=dark] .colab-df-quickchart {\n",
              "      --bg-color: #3B4455;\n",
              "      --fill-color: #D2E3FC;\n",
              "      --hover-bg-color: #434B5C;\n",
              "      --hover-fill-color: #FFFFFF;\n",
              "      --disabled-bg-color: #3B4455;\n",
              "      --disabled-fill-color: #666;\n",
              "  }\n",
              "\n",
              "  .colab-df-quickchart {\n",
              "    background-color: var(--bg-color);\n",
              "    border: none;\n",
              "    border-radius: 50%;\n",
              "    cursor: pointer;\n",
              "    display: none;\n",
              "    fill: var(--fill-color);\n",
              "    height: 32px;\n",
              "    padding: 0;\n",
              "    width: 32px;\n",
              "  }\n",
              "\n",
              "  .colab-df-quickchart:hover {\n",
              "    background-color: var(--hover-bg-color);\n",
              "    box-shadow: 0 1px 2px rgba(60, 64, 67, 0.3), 0 1px 3px 1px rgba(60, 64, 67, 0.15);\n",
              "    fill: var(--button-hover-fill-color);\n",
              "  }\n",
              "\n",
              "  .colab-df-quickchart-complete:disabled,\n",
              "  .colab-df-quickchart-complete:disabled:hover {\n",
              "    background-color: var(--disabled-bg-color);\n",
              "    fill: var(--disabled-fill-color);\n",
              "    box-shadow: none;\n",
              "  }\n",
              "\n",
              "  .colab-df-spinner {\n",
              "    border: 2px solid var(--fill-color);\n",
              "    border-color: transparent;\n",
              "    border-bottom-color: var(--fill-color);\n",
              "    animation:\n",
              "      spin 1s steps(1) infinite;\n",
              "  }\n",
              "\n",
              "  @keyframes spin {\n",
              "    0% {\n",
              "      border-color: transparent;\n",
              "      border-bottom-color: var(--fill-color);\n",
              "      border-left-color: var(--fill-color);\n",
              "    }\n",
              "    20% {\n",
              "      border-color: transparent;\n",
              "      border-left-color: var(--fill-color);\n",
              "      border-top-color: var(--fill-color);\n",
              "    }\n",
              "    30% {\n",
              "      border-color: transparent;\n",
              "      border-left-color: var(--fill-color);\n",
              "      border-top-color: var(--fill-color);\n",
              "      border-right-color: var(--fill-color);\n",
              "    }\n",
              "    40% {\n",
              "      border-color: transparent;\n",
              "      border-right-color: var(--fill-color);\n",
              "      border-top-color: var(--fill-color);\n",
              "    }\n",
              "    60% {\n",
              "      border-color: transparent;\n",
              "      border-right-color: var(--fill-color);\n",
              "    }\n",
              "    80% {\n",
              "      border-color: transparent;\n",
              "      border-right-color: var(--fill-color);\n",
              "      border-bottom-color: var(--fill-color);\n",
              "    }\n",
              "    90% {\n",
              "      border-color: transparent;\n",
              "      border-bottom-color: var(--fill-color);\n",
              "    }\n",
              "  }\n",
              "</style>\n",
              "\n",
              "  <script>\n",
              "    async function quickchart(key) {\n",
              "      const quickchartButtonEl =\n",
              "        document.querySelector('#' + key + ' button');\n",
              "      quickchartButtonEl.disabled = true;  // To prevent multiple clicks.\n",
              "      quickchartButtonEl.classList.add('colab-df-spinner');\n",
              "      try {\n",
              "        const charts = await google.colab.kernel.invokeFunction(\n",
              "            'suggestCharts', [key], {});\n",
              "      } catch (error) {\n",
              "        console.error('Error during call to suggestCharts:', error);\n",
              "      }\n",
              "      quickchartButtonEl.classList.remove('colab-df-spinner');\n",
              "      quickchartButtonEl.classList.add('colab-df-quickchart-complete');\n",
              "    }\n",
              "    (() => {\n",
              "      let quickchartButtonEl =\n",
              "        document.querySelector('#df-798f92cb-612f-42fe-a0b8-59a630456ea0 button');\n",
              "      quickchartButtonEl.style.display =\n",
              "        google.colab.kernel.accessAllowed ? 'block' : 'none';\n",
              "    })();\n",
              "  </script>\n",
              "</div>\n",
              "\n",
              "  <div id=\"id_d5ce4259-f595-4b09-acf5-09e0764e0bf5\">\n",
              "    <style>\n",
              "      .colab-df-generate {\n",
              "        background-color: #E8F0FE;\n",
              "        border: none;\n",
              "        border-radius: 50%;\n",
              "        cursor: pointer;\n",
              "        display: none;\n",
              "        fill: #1967D2;\n",
              "        height: 32px;\n",
              "        padding: 0 0 0 0;\n",
              "        width: 32px;\n",
              "      }\n",
              "\n",
              "      .colab-df-generate:hover {\n",
              "        background-color: #E2EBFA;\n",
              "        box-shadow: 0px 1px 2px rgba(60, 64, 67, 0.3), 0px 1px 3px 1px rgba(60, 64, 67, 0.15);\n",
              "        fill: #174EA6;\n",
              "      }\n",
              "\n",
              "      [theme=dark] .colab-df-generate {\n",
              "        background-color: #3B4455;\n",
              "        fill: #D2E3FC;\n",
              "      }\n",
              "\n",
              "      [theme=dark] .colab-df-generate:hover {\n",
              "        background-color: #434B5C;\n",
              "        box-shadow: 0px 1px 3px 1px rgba(0, 0, 0, 0.15);\n",
              "        filter: drop-shadow(0px 1px 2px rgba(0, 0, 0, 0.3));\n",
              "        fill: #FFFFFF;\n",
              "      }\n",
              "    </style>\n",
              "    <button class=\"colab-df-generate\" onclick=\"generateWithVariable('df')\"\n",
              "            title=\"Generate code using this dataframe.\"\n",
              "            style=\"display:none;\">\n",
              "\n",
              "  <svg xmlns=\"http://www.w3.org/2000/svg\" height=\"24px\"viewBox=\"0 0 24 24\"\n",
              "       width=\"24px\">\n",
              "    <path d=\"M7,19H8.4L18.45,9,17,7.55,7,17.6ZM5,21V16.75L18.45,3.32a2,2,0,0,1,2.83,0l1.4,1.43a1.91,1.91,0,0,1,.58,1.4,1.91,1.91,0,0,1-.58,1.4L9.25,21ZM18.45,9,17,7.55Zm-12,3A5.31,5.31,0,0,0,4.9,8.1,5.31,5.31,0,0,0,1,6.5,5.31,5.31,0,0,0,4.9,4.9,5.31,5.31,0,0,0,6.5,1,5.31,5.31,0,0,0,8.1,4.9,5.31,5.31,0,0,0,12,6.5,5.46,5.46,0,0,0,6.5,12Z\"/>\n",
              "  </svg>\n",
              "    </button>\n",
              "    <script>\n",
              "      (() => {\n",
              "      const buttonEl =\n",
              "        document.querySelector('#id_d5ce4259-f595-4b09-acf5-09e0764e0bf5 button.colab-df-generate');\n",
              "      buttonEl.style.display =\n",
              "        google.colab.kernel.accessAllowed ? 'block' : 'none';\n",
              "\n",
              "      buttonEl.onclick = () => {\n",
              "        google.colab.notebook.generateWithVariable('df');\n",
              "      }\n",
              "      })();\n",
              "    </script>\n",
              "  </div>\n",
              "\n",
              "    </div>\n",
              "  </div>\n"
            ],
            "application/vnd.google.colaboratory.intrinsic+json": {
              "type": "dataframe",
              "variable_name": "df"
            }
          },
          "metadata": {},
          "execution_count": 6
        }
      ]
    },
    {
      "cell_type": "markdown",
      "source": [
        "## Prepare the Langchain dataframe agent"
      ],
      "metadata": {
        "id": "gMVemk6IxkT4"
      }
    },
    {
      "cell_type": "code",
      "source": [
        "# Create instance of ChatOpenAI with the specified model and temperature setting\n",
        "model = ChatOpenAI(temperature=0.5, model='gpt-4')\n",
        "\n",
        "# Create agent to query the csv data\n",
        "agent = create_pandas_dataframe_agent(llm=model,\n",
        "                                      df=df,\n",
        "                                      verbose=True,\n",
        "                                      allow_dangerous_code=True)"
      ],
      "metadata": {
        "id": "pjaqDg8IFMJD"
      },
      "execution_count": 24,
      "outputs": []
    },
    {
      "cell_type": "markdown",
      "source": [
        "## Start asking questions"
      ],
      "metadata": {
        "id": "3Z-2Gpq3XLOi"
      }
    },
    {
      "cell_type": "code",
      "source": [
        "question = \"how many rows are there for US?\"\n",
        "\n",
        "agent.invoke(question)"
      ],
      "metadata": {
        "id": "QkzNVxVkFMLQ",
        "colab": {
          "base_uri": "https://localhost:8080/"
        },
        "outputId": "2b840faf-6c97-4ce5-df14-ef975b14eff0"
      },
      "execution_count": 25,
      "outputs": [
        {
          "output_type": "stream",
          "name": "stdout",
          "text": [
            "\n",
            "\n",
            "\u001b[1m> Entering new AgentExecutor chain...\u001b[0m\n",
            "\u001b[32;1m\u001b[1;3mThought: To answer this question, I need to filter rows where 'state' column is 'US' and then count the number of these rows.\n",
            "Action: python_repl_ast\n",
            "Action Input: len(df[df['state'] == 'US'])\u001b[0m\u001b[36;1m\u001b[1;3m0\u001b[0m\u001b[32;1m\u001b[1;3mI now know the final answer.\n",
            "Final Answer: There are no rows for 'US' in the 'state' column.\u001b[0m\n",
            "\n",
            "\u001b[1m> Finished chain.\u001b[0m\n"
          ]
        },
        {
          "output_type": "execute_result",
          "data": {
            "text/plain": [
              "{'input': 'how many rows are there for US?',\n",
              " 'output': \"There are no rows for 'US' in the 'state' column.\"}"
            ]
          },
          "metadata": {},
          "execution_count": 25
        }
      ]
    },
    {
      "cell_type": "markdown",
      "source": [
        "## Build template prompt"
      ],
      "metadata": {
        "id": "DLmc3lWvXbKD"
      }
    },
    {
      "cell_type": "code",
      "source": [
        "prompt_prefix = \"\"\"\n",
        "First set the pandas display options to show all the columns,\n",
        "get the column names, then answer the question.\n",
        "\"\"\"\n",
        "\n",
        "prompt_suffix = \"\"\"\n",
        "- **ALWAYS** before giving the Final Answer, try another method.\n",
        "Then reflect on the answers of the two methods you did and ask yourself\n",
        "if it answers correctly the original question.\n",
        "If you are not sure, try another method.\n",
        "- If the methods tried do not give the same result,reflect and\n",
        "try again until you have two methods that have the same result.\n",
        "- If you still cannot arrive to a consistent result, say that\n",
        "you are not sure of the answer.\n",
        "- If you are sure of the correct answer, create a beautiful\n",
        "and thorough response using Markdown.\n",
        "- **DO NOT MAKE UP AN ANSWER OR USE PRIOR KNOWLEDGE,\n",
        "ONLY USE THE RESULTS OF THE CALCULATIONS YOU HAVE DONE**.\n",
        "- **ALWAYS**, as part of your \"Final Answer\", explain how you got\n",
        "to the answer on a section that starts with: \"\\n\\nExplanation:\\n\".\n",
        "In the explanation, mention the column names that you used to get\n",
        "to the final answer.\n",
        "\"\"\""
      ],
      "metadata": {
        "id": "Q3Ka8g8kFMNl"
      },
      "execution_count": 26,
      "outputs": []
    },
    {
      "cell_type": "code",
      "source": [
        "question = \"How may patients were hospitalized in July 2020 in Texas\"\n",
        "\n",
        "agent.invoke(prompt_prefix + question + prompt_suffix)"
      ],
      "metadata": {
        "colab": {
          "base_uri": "https://localhost:8080/"
        },
        "id": "vmA7OKKKD_pe",
        "outputId": "7564c97b-579e-41f3-f16a-d2d4db1571aa"
      },
      "execution_count": 27,
      "outputs": [
        {
          "output_type": "stream",
          "name": "stdout",
          "text": [
            "\n",
            "\n",
            "\u001b[1m> Entering new AgentExecutor chain...\u001b[0m\n",
            "\u001b[32;1m\u001b[1;3mThought: To answer this question, I need to select rows where the `state` is 'TX' and the `month_year` is '2020-07', then sum the `hospitalized` column. However, first I need to set the pandas display options to show all the columns and get the column names to ensure that I'm using the correct column names.\n",
            "Action: python_repl_ast\n",
            "Action Input: \n",
            "```python\n",
            "import pandas as pd\n",
            "\n",
            "# Set pandas display options\n",
            "pd.set_option('display.max_columns', None)\n",
            "\n",
            "# Print column names\n",
            "print(df.columns)\n",
            "```\u001b[0m\u001b[36;1m\u001b[1;3mIndex(['date', 'state', 'death', 'deathConfirmed', 'deathIncrease',\n",
            "       'deathProbable', 'hospitalized', 'hospitalizedCumulative',\n",
            "       'hospitalizedCurrently', 'hospitalizedIncrease', 'inIcuCumulative',\n",
            "       'inIcuCurrently', 'negative', 'negativeIncrease',\n",
            "       'negativeTestsAntibody', 'negativeTestsPeopleAntibody',\n",
            "       'negativeTestsViral', 'onVentilatorCumulative', 'onVentilatorCurrently',\n",
            "       'positive', 'positiveCasesViral', 'positiveIncrease', 'positiveScore',\n",
            "       'positiveTestsAntibody', 'positiveTestsAntigen',\n",
            "       'positiveTestsPeopleAntibody', 'positiveTestsPeopleAntigen',\n",
            "       'positiveTestsViral', 'recovered', 'totalTestEncountersViral',\n",
            "       'totalTestEncountersViralIncrease', 'totalTestResults',\n",
            "       'totalTestResultsIncrease', 'totalTestsAntibody', 'totalTestsAntigen',\n",
            "       'totalTestsPeopleAntibody', 'totalTestsPeopleAntigen',\n",
            "       'totalTestsPeopleViral', 'totalTestsPeopleViralIncrease',\n",
            "       'totalTestsViral', 'totalTestsViralIncrease', 'year', 'month',\n",
            "       'month_year'],\n",
            "      dtype='object')\n",
            "\u001b[0m\u001b[32;1m\u001b[1;3mThe column names are correct. Now I can proceed to select rows where the `state` is 'TX' and the `month_year` is '2020-07', then sum the `hospitalized` column.\n",
            "Action: python_repl_ast\n",
            "Action Input: \n",
            "```python\n",
            "# Select rows where state is 'TX' and month_year is '2020-07'\n",
            "tx_july_2020 = df[(df['state'] == 'TX') & (df['month_year'] == '2020-07')]\n",
            "\n",
            "# Sum the 'hospitalized' column\n",
            "total_hospitalized = tx_july_2020['hospitalized'].sum()\n",
            "\n",
            "total_hospitalized\n",
            "```\u001b[0m\u001b[36;1m\u001b[1;3m0.0\u001b[0m\u001b[32;1m\u001b[1;3mThe result is 0.0, which means that there were no patients hospitalized in Texas in July 2020 according to the data. However, to confirm this result, I should try another method. I will use the groupby function to group the data by 'state' and 'month_year', then sum the 'hospitalized' column and select the value for 'TX' and '2020-07'.\n",
            "Action: python_repl_ast\n",
            "Action Input: \n",
            "```python\n",
            "# Group by 'state' and 'month_year', then sum 'hospitalized'\n",
            "grouped = df.groupby(['state', 'month_year'])['hospitalized'].sum()\n",
            "\n",
            "# Select value for 'TX' and '2020-07'\n",
            "grouped_hospitalized = grouped['TX', '2020-07']\n",
            "\n",
            "grouped_hospitalized\n",
            "```\u001b[0m\u001b[36;1m\u001b[1;3m0.0\u001b[0m\u001b[32;1m\u001b[1;3mThe result is also 0.0, which is consistent with the previous method. This confirms that there were no patients hospitalized in Texas in July 2020 according to the data.\n",
            "\n",
            "Final Answer: According to the data, there were no patients hospitalized in Texas in July 2020.\n",
            "\n",
            "Explanation: I arrived at this answer by first selecting rows in the dataframe where the 'state' is 'TX' and the 'month_year' is '2020-07', then summing the 'hospitalized' column. The result was 0.0. To confirm this result, I used another method where I grouped the data by 'state' and 'month_year', then summed the 'hospitalized' column and selected the value for 'TX' and '2020-07'. The result was also 0.0. Therefore, according to the data, there were no patients hospitalized in Texas in July 2020.\u001b[0m\n",
            "\n",
            "\u001b[1m> Finished chain.\u001b[0m\n"
          ]
        },
        {
          "output_type": "execute_result",
          "data": {
            "text/plain": [
              "{'input': '\\nFirst set the pandas display options to show all the columns,\\nget the column names, then answer the question.\\nHow may patients were hospitalized in July 2020 in Texas\\n- **ALWAYS** before giving the Final Answer, try another method.\\nThen reflect on the answers of the two methods you did and ask yourself\\nif it answers correctly the original question.\\nIf you are not sure, try another method.\\n- If the methods tried do not give the same result,reflect and\\ntry again until you have two methods that have the same result.\\n- If you still cannot arrive to a consistent result, say that\\nyou are not sure of the answer.\\n- If you are sure of the correct answer, create a beautiful\\nand thorough response using Markdown.\\n- **DO NOT MAKE UP AN ANSWER OR USE PRIOR KNOWLEDGE,\\nONLY USE THE RESULTS OF THE CALCULATIONS YOU HAVE DONE**.\\n- **ALWAYS**, as part of your \"Final Answer\", explain how you got\\nto the answer on a section that starts with: \"\\n\\nExplanation:\\n\".\\nIn the explanation, mention the column names that you used to get\\nto the final answer.\\n',\n",
              " 'output': \"According to the data, there were no patients hospitalized in Texas in July 2020.\\n\\nExplanation: I arrived at this answer by first selecting rows in the dataframe where the 'state' is 'TX' and the 'month_year' is '2020-07', then summing the 'hospitalized' column. The result was 0.0. To confirm this result, I used another method where I grouped the data by 'state' and 'month_year', then summed the 'hospitalized' column and selected the value for 'TX' and '2020-07'. The result was also 0.0. Therefore, according to the data, there were no patients hospitalized in Texas in July 2020.\"}"
            ]
          },
          "metadata": {},
          "execution_count": 27
        }
      ]
    },
    {
      "cell_type": "code",
      "source": [
        "question = \"How may patients deceased in July 2020 from Texas\"\n",
        "\n",
        "agent.invoke(prompt_prefix + question + prompt_suffix)"
      ],
      "metadata": {
        "colab": {
          "base_uri": "https://localhost:8080/"
        },
        "id": "rbuPl0OwX5JP",
        "outputId": "37850024-1e70-40eb-9b1b-85cb71f1d811"
      },
      "execution_count": 28,
      "outputs": [
        {
          "output_type": "stream",
          "name": "stdout",
          "text": [
            "\n",
            "\n",
            "\u001b[1m> Entering new AgentExecutor chain...\u001b[0m\n",
            "\u001b[32;1m\u001b[1;3mThought: I need to filter the dataframe to only include rows where the state is Texas and the date is in July 2020. Then, I can sum the 'deathIncrease' column to get the total number of deaths in that period.\n",
            "Action: python_repl_ast\n",
            "Action Input: df[(df['state'] == 'TX') & (df['date'].dt.year == 2020) & (df['date'].dt.month == 7)]['deathIncrease'].sum()\u001b[0m\u001b[36;1m\u001b[1;3m4145\u001b[0m\u001b[32;1m\u001b[1;3mThe sum of the 'deathIncrease' column for Texas in July 2020 is 4145. This means that 4145 patients deceased in July 2020 from Texas. However, to be sure of this result, I should try another method.\n",
            "Action: python_repl_ast\n",
            "Action Input: df.loc[(df['state'] == 'TX') & (df['date'].dt.year == 2020) & (df['date'].dt.month == 7), 'deathIncrease'].sum()\u001b[0m\u001b[36;1m\u001b[1;3m4145\u001b[0m\u001b[32;1m\u001b[1;3mThe sum of the 'deathIncrease' column for Texas in July 2020 is also 4145 using the second method. This confirms that the result from the first method is correct.\n",
            "Final Answer: 4145 patients deceased in Texas in July 2020.\n",
            "\n",
            "Explanation:\n",
            "I filtered the dataframe to only include rows where the 'state' column is 'TX', the year of the 'date' column is 2020, and the month of the 'date' column is 7. Then, I summed the 'deathIncrease' column of the filtered dataframe to get the total number of deaths in Texas in July 2020.\u001b[0m\n",
            "\n",
            "\u001b[1m> Finished chain.\u001b[0m\n"
          ]
        },
        {
          "output_type": "execute_result",
          "data": {
            "text/plain": [
              "{'input': '\\nFirst set the pandas display options to show all the columns,\\nget the column names, then answer the question.\\nHow may patients deceased in July 2020 from Texas\\n- **ALWAYS** before giving the Final Answer, try another method.\\nThen reflect on the answers of the two methods you did and ask yourself\\nif it answers correctly the original question.\\nIf you are not sure, try another method.\\n- If the methods tried do not give the same result,reflect and\\ntry again until you have two methods that have the same result.\\n- If you still cannot arrive to a consistent result, say that\\nyou are not sure of the answer.\\n- If you are sure of the correct answer, create a beautiful\\nand thorough response using Markdown.\\n- **DO NOT MAKE UP AN ANSWER OR USE PRIOR KNOWLEDGE,\\nONLY USE THE RESULTS OF THE CALCULATIONS YOU HAVE DONE**.\\n- **ALWAYS**, as part of your \"Final Answer\", explain how you got\\nto the answer on a section that starts with: \"\\n\\nExplanation:\\n\".\\nIn the explanation, mention the column names that you used to get\\nto the final answer.\\n',\n",
              " 'output': \"4145 patients deceased in Texas in July 2020.\\n\\nExplanation:\\nI filtered the dataframe to only include rows where the 'state' column is 'TX', the year of the 'date' column is 2020, and the month of the 'date' column is 7. Then, I summed the 'deathIncrease' column of the filtered dataframe to get the total number of deaths in Texas in July 2020.\"}"
            ]
          },
          "metadata": {},
          "execution_count": 28
        }
      ]
    },
    {
      "cell_type": "markdown",
      "source": [
        "## Create a Gradio interface to ask questions"
      ],
      "metadata": {
        "id": "6hz6LUmMYfYM"
      }
    },
    {
      "cell_type": "code",
      "source": [
        "def predict(message, history):\n",
        "    history_langchain_format = []\n",
        "    for human, ai in history:\n",
        "        history_langchain_format.append(HumanMessage(content=human))\n",
        "#        history_langchain_format.append(AIMessage(content=ai))\n",
        "\n",
        "    # Use the agent to generate the response\n",
        "    response = agent.invoke(prompt_prefix + \"Question: \" + message + \"Context: \" + str(history_langchain_format) + prompt_suffix)\n",
        "\n",
        "    return response['output']\n",
        "\n",
        "# Launch the Gradio interface with the prediction function and subtitle\n",
        "gr.ChatInterface(fn=predict, title=\"CSV Wizard\", description=\"Answering questions from Covid statistics csv\").launch(share=True)\n"
      ],
      "metadata": {
        "colab": {
          "base_uri": "https://localhost:8080/",
          "height": 591
        },
        "id": "U0Ajg2dlD_t7",
        "outputId": "73b49895-edba-44d0-c6c4-5360b15221a0"
      },
      "execution_count": 15,
      "outputs": [
        {
          "output_type": "stream",
          "name": "stdout",
          "text": [
            "Colab notebook detected. To show errors in colab notebook, set debug=True in launch()\n",
            "Running on public URL: https://9739a1995101ca934f.gradio.live\n",
            "\n",
            "This share link expires in 72 hours. For free permanent hosting and GPU upgrades, run `gradio deploy` from Terminal to deploy to Spaces (https://huggingface.co/spaces)\n"
          ]
        },
        {
          "output_type": "display_data",
          "data": {
            "text/plain": [
              "<IPython.core.display.HTML object>"
            ],
            "text/html": [
              "<div><iframe src=\"https://9739a1995101ca934f.gradio.live\" width=\"100%\" height=\"500\" allow=\"autoplay; camera; microphone; clipboard-read; clipboard-write;\" frameborder=\"0\" allowfullscreen></iframe></div>"
            ]
          },
          "metadata": {}
        },
        {
          "output_type": "execute_result",
          "data": {
            "text/plain": []
          },
          "metadata": {},
          "execution_count": 15
        }
      ]
    },
    {
      "cell_type": "markdown",
      "source": [
        "## SQL Agent - Connecting to SQL Database"
      ],
      "metadata": {
        "id": "QfeZ4XeZaSz3"
      }
    },
    {
      "cell_type": "code",
      "source": [
        "from sqlalchemy import create_engine\n",
        "from langchain.agents import create_sql_agent\n",
        "from langchain.agents.agent_toolkits import SQLDatabaseToolkit\n",
        "from langchain.sql_database import SQLDatabase"
      ],
      "metadata": {
        "id": "YPRBs4xgaWAJ"
      },
      "execution_count": 16,
      "outputs": []
    },
    {
      "cell_type": "markdown",
      "source": [
        "### Create SQLite database"
      ],
      "metadata": {
        "id": "6lzkZzwkahp8"
      }
    },
    {
      "cell_type": "code",
      "source": [
        "# Path to your SQLite database file\n",
        "database_file_path = \"./db/test.db\"\n",
        "\n",
        "# Create database if it doesn't exist\n",
        "os.makedirs(os.path.dirname(database_file_path), exist_ok=True)\n",
        "\n",
        "# Create an engine to connect to the SQLite database\n",
        "engine = create_engine(f'sqlite:///{database_file_path}')\n",
        "\n",
        "# create month_year column in dataframe\n",
        "df['month_year'] = pd.to_datetime(df['date']).dt.strftime('%Y-%m')\n",
        "\n",
        "df.to_sql(\n",
        "    'all_states_history',\n",
        "    con=engine,\n",
        "    if_exists='replace',\n",
        "    index=False\n",
        ")"
      ],
      "metadata": {
        "colab": {
          "base_uri": "https://localhost:8080/"
        },
        "id": "lsOU7-26ahHu",
        "outputId": "8aae8cb6-ed39-47eb-ecd3-75ee8e00f24f"
      },
      "execution_count": 29,
      "outputs": [
        {
          "output_type": "execute_result",
          "data": {
            "text/plain": [
              "20780"
            ]
          },
          "metadata": {},
          "execution_count": 29
        }
      ]
    },
    {
      "cell_type": "markdown",
      "source": [
        "## Prepare SQL prompts"
      ],
      "metadata": {
        "id": "myztdEUPdYRy"
      }
    },
    {
      "cell_type": "code",
      "source": [
        "sql_prefix_prompt = \"\"\"\n",
        "\n",
        "You are an agent designed to interact with a SQL database.\n",
        "## Instructions:\n",
        "- Given an input question, create a syntactically correct {dialect} query\n",
        "to run, then look at the results of the query and return the answer.\n",
        "- Unless the user specifies a specific number of examples they wish to\n",
        "obtain, **ALWAYS** limit your query to at most {top_k} results.\n",
        "- You can order the results by a relevant column to return the most\n",
        "interesting examples in the database.\n",
        "- Never query for all the columns from a specific table, only ask for\n",
        "the relevant columns given the question.\n",
        "- You have access to tools for interacting with the database.\n",
        "- You MUST double check your query before executing it.If you get an error\n",
        "while executing a query,rewrite the query and try again.\n",
        "- DO NOT make any DML statements (INSERT, UPDATE, DELETE, DROP etc.)\n",
        "to the database.\n",
        "- DO NOT MAKE UP AN ANSWER OR USE PRIOR KNOWLEDGE, ONLY USE THE RESULTS\n",
        "OF THE CALCULATIONS YOU HAVE DONE.\n",
        "- Your response should be in Markdown. However, **when running  a SQL Query\n",
        "in \"Action Input\", do not include the markdown backticks**.\n",
        "Those are only for formatting the response, not for executing the command.\n",
        "- ALWAYS, as part of your final answer, explain how you got to the answer\n",
        "on a section that starts with: \"Explanation:\". Include the SQL query as\n",
        "part of the explanation section.\n",
        "- If the question does not seem related to the database, just return\n",
        "\"I don\\'t know\" as the answer.\n",
        "- Only use the below tools. Only use the information returned by the\n",
        "below tools to construct your query and final answer.\n",
        "- Do not make up table names, only use the tables returned by any of the\n",
        "tools below.\n",
        "\n",
        "## Tools:\n",
        "\n",
        "\"\"\""
      ],
      "metadata": {
        "id": "24fWzKLocVv1"
      },
      "execution_count": 18,
      "outputs": []
    },
    {
      "cell_type": "code",
      "source": [
        "sql_format_instructions = \"\"\"\n",
        "\n",
        "## Use the following format:\n",
        "\n",
        "Question: the input question you must answer.\n",
        "Thought: you should always think about what to do.\n",
        "Action: the action to take, should be one of [{tool_names}].\n",
        "Action Input: the input to the action.\n",
        "Observation: the result of the action.\n",
        "... (this Thought/Action/Action Input/Observation can repeat N times)\n",
        "Thought: I now know the final answer.\n",
        "Final Answer: the final answer to the original input question.\n",
        "\n",
        "Example of Final Answer:\n",
        "<=== Beginning of example\n",
        "\n",
        "Action: query_sql_db\n",
        "Action Input:\n",
        "SELECT TOP (10) [death]\n",
        "FROM covidtracking\n",
        "WHERE state = 'TX' AND date LIKE '2020%'\n",
        "\n",
        "Observation:\n",
        "[(27437.0,), (27088.0,), (26762.0,), (26521.0,), (26472.0,), (26421.0,), (26408.0,)]\n",
        "Thought:I now know the final answer\n",
        "Final Answer: There were 27437 people who died of covid in Texas in 2020.\n",
        "\n",
        "Explanation:\n",
        "I queried the `covidtracking` table for the `death` column where the state\n",
        "is 'TX' and the date starts with '2020'. The query returned a list of tuples\n",
        "with the number of deaths for each day in 2020. To answer the question,\n",
        "I took the sum of all the deaths in the list, which is 27437.\n",
        "I used the following query\n",
        "\n",
        "```sql\n",
        "SELECT [death] FROM covidtracking WHERE state = 'TX' AND date LIKE '2020%'\"\n",
        "```\n",
        "===> End of Example\n",
        "\n",
        "\"\"\""
      ],
      "metadata": {
        "id": "vVgV5TnJdRlF"
      },
      "execution_count": 19,
      "outputs": []
    },
    {
      "cell_type": "markdown",
      "source": [
        "## Build the SQL agent"
      ],
      "metadata": {
        "id": "NDmk274udkup"
      }
    },
    {
      "cell_type": "code",
      "source": [
        "db = SQLDatabase.from_uri(f'sqlite:///{database_file_path}')\n",
        "model = ChatOpenAI(temperature=0.5, model='gpt-4')\n",
        "toolkit = SQLDatabaseToolkit(db=db, llm=model)\n",
        "\n",
        "agent_executor_SQL = create_sql_agent(\n",
        "    prefix=sql_prefix_prompt,\n",
        "    format_instructions = sql_format_instructions,\n",
        "    llm=model,\n",
        "    toolkit=toolkit,\n",
        "    top_k=30,\n",
        "    verbose=True\n",
        ")"
      ],
      "metadata": {
        "id": "1e8j-pu1dlor"
      },
      "execution_count": 20,
      "outputs": []
    },
    {
      "cell_type": "markdown",
      "source": [
        "## Start asking questions"
      ],
      "metadata": {
        "id": "3R70ov_-drmV"
      }
    },
    {
      "cell_type": "code",
      "source": [
        "question = \"\"\"\n",
        "How may patients were hospitalized by year and month?\n",
        "\"\"\"\n",
        "\n",
        "agent_executor_SQL.invoke(question)"
      ],
      "metadata": {
        "colab": {
          "base_uri": "https://localhost:8080/"
        },
        "id": "UThcDlHCdtXN",
        "outputId": "370cb2c6-bc30-4570-9500-d6eff0f7c666"
      },
      "execution_count": 21,
      "outputs": [
        {
          "output_type": "stream",
          "name": "stdout",
          "text": [
            "\n",
            "\n",
            "\u001b[1m> Entering new SQL Agent Executor chain...\u001b[0m\n",
            "\u001b[32;1m\u001b[1;3mAction: sql_db_list_tables\n",
            "Action Input: \"\"\u001b[0m\u001b[38;5;200m\u001b[1;3mall_states_history\u001b[0m\u001b[32;1m\u001b[1;3mThe `all_states_history` table seems relevant to the question. I should check its schema to understand its structure and the data it contains.\n",
            "Action: sql_db_schema\n",
            "Action Input: \"all_states_history\" \u001b[0m\u001b[33;1m\u001b[1;3m\n",
            "CREATE TABLE all_states_history (\n",
            "\tdate DATETIME, \n",
            "\tstate TEXT, \n",
            "\tdeath FLOAT, \n",
            "\t\"deathConfirmed\" FLOAT, \n",
            "\t\"deathIncrease\" BIGINT, \n",
            "\t\"deathProbable\" FLOAT, \n",
            "\thospitalized FLOAT, \n",
            "\t\"hospitalizedCumulative\" FLOAT, \n",
            "\t\"hospitalizedCurrently\" FLOAT, \n",
            "\t\"hospitalizedIncrease\" BIGINT, \n",
            "\t\"inIcuCumulative\" FLOAT, \n",
            "\t\"inIcuCurrently\" FLOAT, \n",
            "\tnegative FLOAT, \n",
            "\t\"negativeIncrease\" BIGINT, \n",
            "\t\"negativeTestsAntibody\" FLOAT, \n",
            "\t\"negativeTestsPeopleAntibody\" FLOAT, \n",
            "\t\"negativeTestsViral\" FLOAT, \n",
            "\t\"onVentilatorCumulative\" FLOAT, \n",
            "\t\"onVentilatorCurrently\" FLOAT, \n",
            "\tpositive FLOAT, \n",
            "\t\"positiveCasesViral\" FLOAT, \n",
            "\t\"positiveIncrease\" BIGINT, \n",
            "\t\"positiveScore\" BIGINT, \n",
            "\t\"positiveTestsAntibody\" FLOAT, \n",
            "\t\"positiveTestsAntigen\" FLOAT, \n",
            "\t\"positiveTestsPeopleAntibody\" FLOAT, \n",
            "\t\"positiveTestsPeopleAntigen\" FLOAT, \n",
            "\t\"positiveTestsViral\" FLOAT, \n",
            "\trecovered FLOAT, \n",
            "\t\"totalTestEncountersViral\" FLOAT, \n",
            "\t\"totalTestEncountersViralIncrease\" BIGINT, \n",
            "\t\"totalTestResults\" FLOAT, \n",
            "\t\"totalTestResultsIncrease\" BIGINT, \n",
            "\t\"totalTestsAntibody\" FLOAT, \n",
            "\t\"totalTestsAntigen\" FLOAT, \n",
            "\t\"totalTestsPeopleAntibody\" FLOAT, \n",
            "\t\"totalTestsPeopleAntigen\" FLOAT, \n",
            "\t\"totalTestsPeopleViral\" FLOAT, \n",
            "\t\"totalTestsPeopleViralIncrease\" BIGINT, \n",
            "\t\"totalTestsViral\" FLOAT, \n",
            "\t\"totalTestsViralIncrease\" BIGINT, \n",
            "\tyear INTEGER, \n",
            "\tmonth INTEGER, \n",
            "\tmonth_year TEXT\n",
            ")\n",
            "\n",
            "/*\n",
            "3 rows from all_states_history table:\n",
            "date\tstate\tdeath\tdeathConfirmed\tdeathIncrease\tdeathProbable\thospitalized\thospitalizedCumulative\thospitalizedCurrently\thospitalizedIncrease\tinIcuCumulative\tinIcuCurrently\tnegative\tnegativeIncrease\tnegativeTestsAntibody\tnegativeTestsPeopleAntibody\tnegativeTestsViral\tonVentilatorCumulative\tonVentilatorCurrently\tpositive\tpositiveCasesViral\tpositiveIncrease\tpositiveScore\tpositiveTestsAntibody\tpositiveTestsAntigen\tpositiveTestsPeopleAntibody\tpositiveTestsPeopleAntigen\tpositiveTestsViral\trecovered\ttotalTestEncountersViral\ttotalTestEncountersViralIncrease\ttotalTestResults\ttotalTestResultsIncrease\ttotalTestsAntibody\ttotalTestsAntigen\ttotalTestsPeopleAntibody\ttotalTestsPeopleAntigen\ttotalTestsPeopleViral\ttotalTestsPeopleViralIncrease\ttotalTestsViral\ttotalTestsViralIncrease\tyear\tmonth\tmonth_year\n",
            "2021-03-07 00:00:00\tAK\t305.0\t0.0\t0\t0.0\t1293.0\t1293.0\t33.0\t0\t0.0\t0.0\t0.0\t0\t0.0\t0.0\t1660758.0\t0.0\t2.0\t56886.0\t0.0\t0\t0\t0.0\t0.0\t0.0\t0.0\t68693.0\t0.0\t0.0\t0\t1731628.0\t0\t0.0\t0.0\t0.0\t0.0\t0.0\t0\t1731628.0\t0\t2021\t3\t2021-03\n",
            "2021-03-07 00:00:00\tAL\t10148.0\t7963.0\t-1\t2185.0\t45976.0\t45976.0\t494.0\t0\t2676.0\t0.0\t1931711.0\t2087\t0.0\t0.0\t0.0\t1515.0\t0.0\t499819.0\t392077.0\t408\t0\t0.0\t0.0\t0.0\t0.0\t0.0\t295690.0\t0.0\t0\t2323788.0\t2347\t0.0\t0.0\t119757.0\t0.0\t2323788.0\t2347\t0.0\t0\t2021\t3\t2021-03\n",
            "2021-03-07 00:00:00\tAR\t5319.0\t4308.0\t22\t1011.0\t14926.0\t14926.0\t335.0\t11\t0.0\t141.0\t2480716.0\t3267\t0.0\t0.0\t2480716.0\t1533.0\t65.0\t324818.0\t255726.0\t165\t0\t0.0\t0.0\t0.0\t81803.0\t0.0\t315517.0\t0.0\t0\t2736442.0\t3380\t0.0\t0.0\t0.0\t481311.0\t0.0\t0\t2736442.0\t3380\t2021\t3\t2021-03\n",
            "*/\u001b[0m\u001b[32;1m\u001b[1;3mThe `all_states_history` table has the `hospitalized` column which represents the total number of people hospitalized due to COVID-19. The table also has `year` and `month` columns which I can group by to get the total number of people hospitalized by year and month.\n",
            "\n",
            "I will write a SQL query to sum the `hospitalized` column grouped by `year` and `month`. I will also order the results by `year` and `month` for better readability.\n",
            "Action: sql_db_query_checker\n",
            "Action Input: \"SELECT year, month, SUM(hospitalized) as total_hospitalized FROM all_states_history GROUP BY year, month ORDER BY year, month\"\u001b[0m\u001b[36;1m\u001b[1;3mSELECT year, month, SUM(hospitalized) as total_hospitalized FROM all_states_history GROUP BY year, month ORDER BY year, month\u001b[0m\u001b[32;1m\u001b[1;3mThe query is correct, I will now run it to get the total number of people hospitalized by year and month.\n",
            "Action: sql_db_query\n",
            "Action Input: \"SELECT year, month, SUM(hospitalized) as total_hospitalized FROM all_states_history GROUP BY year, month ORDER BY year, month\"\u001b[0m\u001b[36;1m\u001b[1;3m[(2020, 1, 0.0), (2020, 2, 0.0), (2020, 3, 32221.0), (2020, 4, 784533.0), (2020, 5, 2561872.0), (2020, 6, 4038095.0), (2020, 7, 5535849.0), (2020, 8, 7723933.0), (2020, 9, 8799572.0), (2020, 10, 10414102.0), (2020, 11, 12283586.0), (2020, 12, 16262903.0), (2021, 1, 20134520.0), (2021, 2, 20714612.0), (2021, 3, 5405727.0)]\u001b[0m\u001b[32;1m\u001b[1;3mI now know the final answer.\n",
            "Final Answer: The total number of patients hospitalized by year and month is as follows:\n",
            "\n",
            "- January 2020: 0\n",
            "- February 2020: 0\n",
            "- March 2020: 32,221\n",
            "- April 2020: 784,533\n",
            "- May 2020: 2,561,872\n",
            "- June 2020: 4,038,095\n",
            "- July 2020: 5,535,849\n",
            "- August 2020: 7,723,933\n",
            "- September 2020: 8,799,572\n",
            "- October 2020: 10,414,102\n",
            "- November 2020: 12,283,586\n",
            "- December 2020: 16,262,903\n",
            "- January 2021: 20,134,520\n",
            "- February 2021: 20,714,612\n",
            "- March 2021: 5,405,727\n",
            "\n",
            "Explanation: I queried the `all_states_history` table for the sum of the `hospitalized` column grouped by `year` and `month`. The query returned a list of tuples with the total number of people hospitalized for each month of each year. The query I used is:\n",
            "\n",
            "```sql\n",
            "SELECT year, month, SUM(hospitalized) as total_hospitalized FROM all_states_history GROUP BY year, month ORDER BY year, month\n",
            "```\u001b[0m\n",
            "\n",
            "\u001b[1m> Finished chain.\u001b[0m\n"
          ]
        },
        {
          "output_type": "execute_result",
          "data": {
            "text/plain": [
              "{'input': '\\nHow may patients were hospitalized by year and month?\\n',\n",
              " 'output': 'The total number of patients hospitalized by year and month is as follows:\\n\\n- January 2020: 0\\n- February 2020: 0\\n- March 2020: 32,221\\n- April 2020: 784,533\\n- May 2020: 2,561,872\\n- June 2020: 4,038,095\\n- July 2020: 5,535,849\\n- August 2020: 7,723,933\\n- September 2020: 8,799,572\\n- October 2020: 10,414,102\\n- November 2020: 12,283,586\\n- December 2020: 16,262,903\\n- January 2021: 20,134,520\\n- February 2021: 20,714,612\\n- March 2021: 5,405,727\\n\\nExplanation: I queried the `all_states_history` table for the sum of the `hospitalized` column grouped by `year` and `month`. The query returned a list of tuples with the total number of people hospitalized for each month of each year. The query I used is:\\n\\n```sql\\nSELECT year, month, SUM(hospitalized) as total_hospitalized FROM all_states_history GROUP BY year, month ORDER BY year, month\\n```'}"
            ]
          },
          "metadata": {},
          "execution_count": 21
        }
      ]
    },
    {
      "cell_type": "code",
      "source": [
        "question = \"\"\"\n",
        "how many deaths were from Texas by year and month?\n",
        "\"\"\"\n",
        "\n",
        "agent_executor_SQL.invoke(question)"
      ],
      "metadata": {
        "colab": {
          "base_uri": "https://localhost:8080/"
        },
        "id": "73bqrtgxiKwR",
        "outputId": "a5da7b18-b396-4f9c-c7e2-5c377a9562fa"
      },
      "execution_count": 22,
      "outputs": [
        {
          "output_type": "stream",
          "name": "stdout",
          "text": [
            "\n",
            "\n",
            "\u001b[1m> Entering new SQL Agent Executor chain...\u001b[0m\n",
            "\u001b[32;1m\u001b[1;3mAction: sql_db_list_tables\n",
            "Action Input: \"\"\u001b[0m\u001b[38;5;200m\u001b[1;3mall_states_history\u001b[0m\u001b[32;1m\u001b[1;3mThe `all_states_history` table seems to be the most relevant one for this question. I should check its schema to see what columns it has.\n",
            "Action: sql_db_schema\n",
            "Action Input: all_states_history\u001b[0m\u001b[33;1m\u001b[1;3m\n",
            "CREATE TABLE all_states_history (\n",
            "\tdate DATETIME, \n",
            "\tstate TEXT, \n",
            "\tdeath FLOAT, \n",
            "\t\"deathConfirmed\" FLOAT, \n",
            "\t\"deathIncrease\" BIGINT, \n",
            "\t\"deathProbable\" FLOAT, \n",
            "\thospitalized FLOAT, \n",
            "\t\"hospitalizedCumulative\" FLOAT, \n",
            "\t\"hospitalizedCurrently\" FLOAT, \n",
            "\t\"hospitalizedIncrease\" BIGINT, \n",
            "\t\"inIcuCumulative\" FLOAT, \n",
            "\t\"inIcuCurrently\" FLOAT, \n",
            "\tnegative FLOAT, \n",
            "\t\"negativeIncrease\" BIGINT, \n",
            "\t\"negativeTestsAntibody\" FLOAT, \n",
            "\t\"negativeTestsPeopleAntibody\" FLOAT, \n",
            "\t\"negativeTestsViral\" FLOAT, \n",
            "\t\"onVentilatorCumulative\" FLOAT, \n",
            "\t\"onVentilatorCurrently\" FLOAT, \n",
            "\tpositive FLOAT, \n",
            "\t\"positiveCasesViral\" FLOAT, \n",
            "\t\"positiveIncrease\" BIGINT, \n",
            "\t\"positiveScore\" BIGINT, \n",
            "\t\"positiveTestsAntibody\" FLOAT, \n",
            "\t\"positiveTestsAntigen\" FLOAT, \n",
            "\t\"positiveTestsPeopleAntibody\" FLOAT, \n",
            "\t\"positiveTestsPeopleAntigen\" FLOAT, \n",
            "\t\"positiveTestsViral\" FLOAT, \n",
            "\trecovered FLOAT, \n",
            "\t\"totalTestEncountersViral\" FLOAT, \n",
            "\t\"totalTestEncountersViralIncrease\" BIGINT, \n",
            "\t\"totalTestResults\" FLOAT, \n",
            "\t\"totalTestResultsIncrease\" BIGINT, \n",
            "\t\"totalTestsAntibody\" FLOAT, \n",
            "\t\"totalTestsAntigen\" FLOAT, \n",
            "\t\"totalTestsPeopleAntibody\" FLOAT, \n",
            "\t\"totalTestsPeopleAntigen\" FLOAT, \n",
            "\t\"totalTestsPeopleViral\" FLOAT, \n",
            "\t\"totalTestsPeopleViralIncrease\" BIGINT, \n",
            "\t\"totalTestsViral\" FLOAT, \n",
            "\t\"totalTestsViralIncrease\" BIGINT, \n",
            "\tyear INTEGER, \n",
            "\tmonth INTEGER, \n",
            "\tmonth_year TEXT\n",
            ")\n",
            "\n",
            "/*\n",
            "3 rows from all_states_history table:\n",
            "date\tstate\tdeath\tdeathConfirmed\tdeathIncrease\tdeathProbable\thospitalized\thospitalizedCumulative\thospitalizedCurrently\thospitalizedIncrease\tinIcuCumulative\tinIcuCurrently\tnegative\tnegativeIncrease\tnegativeTestsAntibody\tnegativeTestsPeopleAntibody\tnegativeTestsViral\tonVentilatorCumulative\tonVentilatorCurrently\tpositive\tpositiveCasesViral\tpositiveIncrease\tpositiveScore\tpositiveTestsAntibody\tpositiveTestsAntigen\tpositiveTestsPeopleAntibody\tpositiveTestsPeopleAntigen\tpositiveTestsViral\trecovered\ttotalTestEncountersViral\ttotalTestEncountersViralIncrease\ttotalTestResults\ttotalTestResultsIncrease\ttotalTestsAntibody\ttotalTestsAntigen\ttotalTestsPeopleAntibody\ttotalTestsPeopleAntigen\ttotalTestsPeopleViral\ttotalTestsPeopleViralIncrease\ttotalTestsViral\ttotalTestsViralIncrease\tyear\tmonth\tmonth_year\n",
            "2021-03-07 00:00:00\tAK\t305.0\t0.0\t0\t0.0\t1293.0\t1293.0\t33.0\t0\t0.0\t0.0\t0.0\t0\t0.0\t0.0\t1660758.0\t0.0\t2.0\t56886.0\t0.0\t0\t0\t0.0\t0.0\t0.0\t0.0\t68693.0\t0.0\t0.0\t0\t1731628.0\t0\t0.0\t0.0\t0.0\t0.0\t0.0\t0\t1731628.0\t0\t2021\t3\t2021-03\n",
            "2021-03-07 00:00:00\tAL\t10148.0\t7963.0\t-1\t2185.0\t45976.0\t45976.0\t494.0\t0\t2676.0\t0.0\t1931711.0\t2087\t0.0\t0.0\t0.0\t1515.0\t0.0\t499819.0\t392077.0\t408\t0\t0.0\t0.0\t0.0\t0.0\t0.0\t295690.0\t0.0\t0\t2323788.0\t2347\t0.0\t0.0\t119757.0\t0.0\t2323788.0\t2347\t0.0\t0\t2021\t3\t2021-03\n",
            "2021-03-07 00:00:00\tAR\t5319.0\t4308.0\t22\t1011.0\t14926.0\t14926.0\t335.0\t11\t0.0\t141.0\t2480716.0\t3267\t0.0\t0.0\t2480716.0\t1533.0\t65.0\t324818.0\t255726.0\t165\t0\t0.0\t0.0\t0.0\t81803.0\t0.0\t315517.0\t0.0\t0\t2736442.0\t3380\t0.0\t0.0\t0.0\t481311.0\t0.0\t0\t2736442.0\t3380\t2021\t3\t2021-03\n",
            "*/\u001b[0m\u001b[32;1m\u001b[1;3mThe `all_states_history` table has the columns `state`, `death`, `year`, and `month` which are all relevant to the question. I can group the data by state, year, and month and then sum the `death` column. I will filter for the state of Texas.\n",
            "Action: sql_db_query\n",
            "Action Input: \n",
            "```sql\n",
            "SELECT year, month, SUM(death) as total_deaths\n",
            "FROM all_states_history\n",
            "WHERE state = 'TX'\n",
            "GROUP BY year, month\n",
            "ORDER BY year, month\n",
            "LIMIT 30\n",
            "```\u001b[0m\u001b[36;1m\u001b[1;3mError: (sqlite3.OperationalError) near \"```sql\n",
            "SELECT year, month, SUM(death) as total_deaths\n",
            "FROM all_states_history\n",
            "WHERE state = 'TX'\n",
            "GROUP BY year, month\n",
            "ORDER BY year, month\n",
            "LIMIT 30\n",
            "```\": syntax error\n",
            "[SQL: ```sql\n",
            "SELECT year, month, SUM(death) as total_deaths\n",
            "FROM all_states_history\n",
            "WHERE state = 'TX'\n",
            "GROUP BY year, month\n",
            "ORDER BY year, month\n",
            "LIMIT 30\n",
            "```]\n",
            "(Background on this error at: https://sqlalche.me/e/20/e3q8)\u001b[0m\u001b[32;1m\u001b[1;3mIt seems that there was an error in the SQL query. I should not have included the markdown backticks in the query. I will rewrite the query without the backticks and try again.\n",
            "Action: sql_db_query\n",
            "Action Input: \n",
            "SELECT year, month, SUM(death) as total_deaths\n",
            "FROM all_states_history\n",
            "WHERE state = 'TX'\n",
            "GROUP BY year, month\n",
            "ORDER BY year, month\n",
            "LIMIT 30\u001b[0m\u001b[36;1m\u001b[1;3m[(2020, 3, 227.0), (2020, 4, 11438.0), (2020, 5, 39119.0), (2020, 6, 61207.0), (2020, 7, 120655.0), (2020, 8, 304998.0), (2020, 9, 431275.0), (2020, 10, 523085.0), (2020, 11, 590591.0), (2020, 12, 758658.0), (2021, 1, 984700.0), (2021, 2, 1123403.0), (2021, 3, 306654.0)]\u001b[0m\u001b[32;1m\u001b[1;3mI now know the final answer.\n",
            "Final Answer: The number of deaths in Texas by year and month are as follows:\n",
            "\n",
            "- March 2020: 227\n",
            "- April 2020: 11,438\n",
            "- May 2020: 39,119\n",
            "- June 2020: 61,207\n",
            "- July 2020: 120,655\n",
            "- August 2020: 304,998\n",
            "- September 2020: 431,275\n",
            "- October 2020: 523,085\n",
            "- November 2020: 590,591\n",
            "- December 2020: 758,658\n",
            "- January 2021: 984,700\n",
            "- February 2021: 1,123,403\n",
            "- March 2021: 306,654\n",
            "\n",
            "Explanation: I queried the `all_states_history` table for the `year`, `month`, and `SUM(death)` columns where the state is 'TX'. I grouped the results by `year` and `month` and ordered the results by `year` and `month`. The query returned a list of tuples with the year, month, and total number of deaths for each month in Texas. \n",
            "\n",
            "I used the following query:\n",
            "\n",
            "```sql\n",
            "SELECT year, month, SUM(death) as total_deaths\n",
            "FROM all_states_history\n",
            "WHERE state = 'TX'\n",
            "GROUP BY year, month\n",
            "ORDER BY year, month\n",
            "LIMIT 30\n",
            "```\u001b[0m\n",
            "\n",
            "\u001b[1m> Finished chain.\u001b[0m\n"
          ]
        },
        {
          "output_type": "execute_result",
          "data": {
            "text/plain": [
              "{'input': '\\nhow many deaths were from Texas by year and month?\\n',\n",
              " 'output': \"The number of deaths in Texas by year and month are as follows:\\n\\n- March 2020: 227\\n- April 2020: 11,438\\n- May 2020: 39,119\\n- June 2020: 61,207\\n- July 2020: 120,655\\n- August 2020: 304,998\\n- September 2020: 431,275\\n- October 2020: 523,085\\n- November 2020: 590,591\\n- December 2020: 758,658\\n- January 2021: 984,700\\n- February 2021: 1,123,403\\n- March 2021: 306,654\\n\\nExplanation: I queried the `all_states_history` table for the `year`, `month`, and `SUM(death)` columns where the state is 'TX'. I grouped the results by `year` and `month` and ordered the results by `year` and `month`. The query returned a list of tuples with the year, month, and total number of deaths for each month in Texas. \\n\\nI used the following query:\\n\\n```sql\\nSELECT year, month, SUM(death) as total_deaths\\nFROM all_states_history\\nWHERE state = 'TX'\\nGROUP BY year, month\\nORDER BY year, month\\nLIMIT 30\\n```\"}"
            ]
          },
          "metadata": {},
          "execution_count": 22
        }
      ]
    },
    {
      "cell_type": "markdown",
      "source": [
        "## Create a Gradio interface to ask questions"
      ],
      "metadata": {
        "id": "x2-lb1fOewrH"
      }
    },
    {
      "cell_type": "code",
      "source": [
        "def predict(message, history):\n",
        "    history_langchain_format = []\n",
        "    for human, ai in history:\n",
        "        history_langchain_format.append(HumanMessage(content=human))\n",
        "        history_langchain_format.append(AIMessage(content=ai))\n",
        "\n",
        "    # Use the agent to generate the response\n",
        "    response = agent.invoke(\"Question: \" + message + \"Context: \" + str(history_langchain_format))\n",
        "    return response['output']\n",
        "\n",
        "# Launch the Gradio interface with the prediction function and subtitle\n",
        "gr.ChatInterface(fn=predict, title=\"SQL Wizard\", description=\"Answering questions from Covid statistics Database\").launch(share=True)\n"
      ],
      "metadata": {
        "colab": {
          "base_uri": "https://localhost:8080/",
          "height": 591
        },
        "id": "P1r9e3nXey5x",
        "outputId": "966bef0e-ece5-463c-8de8-b4778ad2d431"
      },
      "execution_count": 23,
      "outputs": [
        {
          "output_type": "stream",
          "name": "stdout",
          "text": [
            "Colab notebook detected. To show errors in colab notebook, set debug=True in launch()\n",
            "Running on public URL: https://485389dbdafcc737f7.gradio.live\n",
            "\n",
            "This share link expires in 72 hours. For free permanent hosting and GPU upgrades, run `gradio deploy` from Terminal to deploy to Spaces (https://huggingface.co/spaces)\n"
          ]
        },
        {
          "output_type": "display_data",
          "data": {
            "text/plain": [
              "<IPython.core.display.HTML object>"
            ],
            "text/html": [
              "<div><iframe src=\"https://485389dbdafcc737f7.gradio.live\" width=\"100%\" height=\"500\" allow=\"autoplay; camera; microphone; clipboard-read; clipboard-write;\" frameborder=\"0\" allowfullscreen></iframe></div>"
            ]
          },
          "metadata": {}
        },
        {
          "output_type": "execute_result",
          "data": {
            "text/plain": []
          },
          "metadata": {},
          "execution_count": 23
        }
      ]
    }
  ]
}